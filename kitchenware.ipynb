{
 "cells": [
  {
   "cell_type": "code",
   "execution_count": 1,
   "metadata": {},
   "outputs": [],
   "source": [
    "import os\n",
    "import pandas as pd\n",
    "import numpy as np"
   ]
  },
  {
   "cell_type": "code",
   "execution_count": 2,
   "metadata": {},
   "outputs": [],
   "source": [
    "def crete_img_dir(train_file_path, test_file_path):\n",
    "\n",
    "    train_data = pd.read_csv(train_file_path) #loading train data\n",
    "    test_data = pd.read_csv(test_file_path) #loading test data\n",
    "\n",
    "    train_id = train_data['Id'].values.tolist()\n",
    "    test_id = test_data['Id'].values.tolist()\n",
    "\n",
    "    train_id_class = train_data['label'].values.tolist()\n",
    "    new_train_label = zip(train_id, train_id_class)\n",
    "\n",
    "\n",
    "    #making Dir\n",
    "    train_img_dir = os.getcwd() + '/images/train'\n",
    "    test_img_dir = os.getcwd() + '/images/test'\n",
    "\n",
    "    if not os.path.exists(train_img_dir):\n",
    "        os.mkdir(train_img_dir)\n",
    "\n",
    "    if not os.path.exists(test_img_dir):\n",
    "        os.mkdir(test_img_dir)\n",
    "\n",
    "    path = './images/'\n",
    "    for img in os.listdir(path):\n",
    "        img_path = os.path.join(path, img)\n",
    "        if os.path.isfile(img_path):\n",
    "\n",
    "            img_id = int(img.split('.')[0])\n",
    "\n",
    "            if (img_id in train_id):\n",
    "                os.rename(img_path, f'{train_img_dir}/{img}') \n",
    "            else:\n",
    "                os.rename(img_path, f'{test_img_dir}/{img}') \n",
    "\n",
    "    path = \"C:/Users/Godwin/Desktop/kitchenware-classification/images\"\n",
    "    for id in test_id:\n",
    "        if len(str(id)) < 4:\n",
    "            no_ = 4 - len(str(id))\n",
    "            id = (str(0)*no_) + str(id)\n",
    "\n",
    "        img = str(id) +  '.jpg'\n",
    "        img_path = path + '/' + img\n",
    "        os.rename(img_path, f\"C:/Users/Godwin/Desktop/kitchenware-classification/tests/{img}\")\n",
    "\n",
    "\n",
    "    dict = {}\n",
    "    for id, label in new_train_label: \n",
    "        dict[id] = label\n",
    "\n",
    "    labels = ['cup', 'glass','plate', 'spoon','fork', 'knife']\n",
    "    for label in labels:\n",
    "        path = train_img_dir + '/' + label\n",
    "        if not os.path.exists(path):\n",
    "            os.mkdir(path)\n",
    "\n",
    "    for img in os.listdir(train_img_dir):\n",
    "        img_path = os.path.join(train_img_dir, img)\n",
    "\n",
    "        if os.path.isfile(img_path):\n",
    "            img_id = int(img.split('.')[0])\n",
    "\n",
    "            label = dict[img_id]\n",
    "            os.rename(img_path, f'{train_img_dir}/{label}/{img}') ss"
   ]
  },
  {
   "attachments": {},
   "cell_type": "markdown",
   "metadata": {},
   "source": [
    "Moving files"
   ]
  },
  {
   "cell_type": "code",
   "execution_count": null,
   "metadata": {},
   "outputs": [],
   "source": [
    "path = \"/content/drive/MyDrive/kitchenware-classification/images/train\"\n",
    "new_train = path + '/train'\n",
    "new_test = path + '/test'\n",
    "\n",
    "if not os.path.exists(new_train):\n",
    "  os.mkdir(new_train)\n",
    "if not os.path.exists(new_test):\n",
    "  os.mkdir(new_test)\n",
    "\n",
    "for dir in os.listdir(path):\n",
    "  new_path = os.path.join(path, dir)\n",
    "  class_train_path = new_train + '/' + dir\n",
    "  class_test_path = new_test + '/' + dir\n",
    "\n",
    "  if not os.path.exists(class_train_path):\n",
    "    os.mkdir(class_train_path)\n",
    "  if not os.path.exists(class_test_path):\n",
    "    os.mkdir(class_test_path)  \n",
    "\n",
    "  no_imgs = len(os.listdir(new_path))\n",
    "  copying = int((80/100) * 100)\n",
    "  no_copied = 0\n",
    "\n",
    "  for img in os.listdir(new_path):\n",
    "    img_path = os.path.join(new_path, img)\n",
    "    if os.path.isfile(img_path):\n",
    "      if no_copied < copying:\n",
    "        shutil.copyfile(img_path, f\"{class_train_path}/{img}\")\n",
    "      else:\n",
    "        shutil.copyfile(img_path, f\"{class_test_path}/{img}\")\n",
    "      no_copied = no_copied +1"
   ]
  }
 ],
 "metadata": {
  "kernelspec": {
   "display_name": "Tensorflow",
   "language": "python",
   "name": "python3"
  },
  "language_info": {
   "codemirror_mode": {
    "name": "ipython",
    "version": 3
   },
   "file_extension": ".py",
   "mimetype": "text/x-python",
   "name": "python",
   "nbconvert_exporter": "python",
   "pygments_lexer": "ipython3",
   "version": "3.9.13 (main, Aug 25 2022, 23:51:50) [MSC v.1916 64 bit (AMD64)]"
  },
  "orig_nbformat": 4,
  "vscode": {
   "interpreter": {
    "hash": "a2031be23302a6f80daad80b84b83a86f535e1c11907b65b4c4b25f3c409004f"
   }
  }
 },
 "nbformat": 4,
 "nbformat_minor": 2
}
